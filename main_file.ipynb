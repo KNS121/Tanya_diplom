{
 "cells": [
  {
   "cell_type": "code",
   "execution_count": 1,
   "id": "6c925223-b7cc-4c46-bb63-1a76a4b0def1",
   "metadata": {},
   "outputs": [
    {
     "name": "stdout",
     "output_type": "stream",
     "text": [
      "first\n"
     ]
    }
   ],
   "source": [
    "print('first')"
   ]
  },
  {
   "cell_type": "code",
   "execution_count": null,
   "id": "d7bb17e1-2c0c-4a1d-aacb-93d5f7939d43",
   "metadata": {},
   "outputs": [],
   "source": []
  }
 ],
 "metadata": {
  "kernelspec": {
   "display_name": "Python 3 (ipykernel)",
   "language": "python",
   "name": "python3"
  },
  "language_info": {
   "codemirror_mode": {
    "name": "ipython",
    "version": 3
   },
   "file_extension": ".py",
   "mimetype": "text/x-python",
   "name": "python",
   "nbconvert_exporter": "python",
   "pygments_lexer": "ipython3",
   "version": "3.10.9"
  }
 },
 "nbformat": 4,
 "nbformat_minor": 5
}
